{
 "cells": [
  {
   "cell_type": "code",
   "execution_count": 2,
   "id": "fe46b6cc",
   "metadata": {},
   "outputs": [
    {
     "name": "stdout",
     "output_type": "stream",
     "text": [
      "Enter the name of the text file(with file extension) which you wish to update: example.txt\n",
      "Enter the word you wish to replace in the file: screening\n",
      "Enter the new word you wish to use: placement\n",
      "Replacing screening -------> placement\n",
      "File Updated\n"
     ]
    }
   ],
   "source": [
    "#The following function in python reads the text file and replaces specific content of the file.\n",
    "def REP_func():\n",
    "    flag = True\n",
    "    while flag:\n",
    "        try:\n",
    "            FN = str(input(\"Enter the name of the text file(with file extension) which you wish to update: \"))\n",
    "            r = str(input(\"Enter the word you wish to replace in the file: \"))\n",
    "            rw = str(input(\"Enter the new word you wish to use: \"))\n",
    "        \n",
    "            # Opening and working on the requested file\n",
    "            f = open(FN,\"r+\")\n",
    "            word = f.read()\n",
    "            word = word.replace(r, rw)\n",
    "            #print(word)\n",
    "            f = open(FN,\"w+\")\n",
    "            f.write(word)\n",
    "            f.close()\n",
    "            flag = False\n",
    "        \n",
    "        except FileNotFoundError as fnf:\n",
    "            print(\"Please enter the correct file name-> \",fnf)\n",
    "        except Exception as e:\n",
    "            print(e)\n",
    "        print(\"Replacing \" + r + \" -------> \" + rw)\n",
    "\n",
    "try: \n",
    "    REP_func()\n",
    "except Exception as e:\n",
    "    print(e)\n",
    "print(\"File Updated\")"
   ]
  },
  {
   "cell_type": "code",
   "execution_count": null,
   "id": "0d283152",
   "metadata": {},
   "outputs": [],
   "source": []
  }
 ],
 "metadata": {
  "kernelspec": {
   "display_name": "Python 3 (ipykernel)",
   "language": "python",
   "name": "python3"
  },
  "language_info": {
   "codemirror_mode": {
    "name": "ipython",
    "version": 3
   },
   "file_extension": ".py",
   "mimetype": "text/x-python",
   "name": "python",
   "nbconvert_exporter": "python",
   "pygments_lexer": "ipython3",
   "version": "3.9.12"
  }
 },
 "nbformat": 4,
 "nbformat_minor": 5
}
