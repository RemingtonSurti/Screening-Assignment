{
 "cells": [
  {
   "cell_type": "code",
   "execution_count": 4,
   "id": "ab8ae724",
   "metadata": {},
   "outputs": [],
   "source": [
    "#Demostrate the use of decorators \n",
    "\n",
    "#Importing required modules\n",
    "from abc import ABC, abstractmethod"
   ]
  },
  {
   "cell_type": "code",
   "execution_count": 46,
   "id": "ddf5b150",
   "metadata": {},
   "outputs": [],
   "source": [
    "class Company(ABC):\n",
    "    \n",
    "    def __init__(self, F_name, L_name):\n",
    "        self.F_name = F_name\n",
    "        self.L_name = L_name    \n",
    "        \n",
    "    #This is a decorator as they all are preceeded by the '@' sign   \n",
    "    @abstractmethod\n",
    "    def get_salary(self):\n",
    "        pass\n",
    "\n",
    "class Analyst(Company):\n",
    "    def __init__(self, F_name, L_name, hrs_worked, rate):\n",
    "        Company.__init__(self, F_name, L_name)\n",
    "        self.hrs_worked = hrs_worked\n",
    "        self.rate = rate\n",
    "        \n",
    "        \n",
    "    # Function to be used as a decorator\n",
    "    def star(func):\n",
    "        def welcome(self):\n",
    "            print(\"*\" * 100)\n",
    "            func(self)\n",
    "            print(\"*\" * 100)\n",
    "        return welcome\n",
    "    \n",
    "    \n",
    "    # Function to be used as a decorator\n",
    "    def check_salary(func):\n",
    "        def calculator(self):\n",
    "            if (self.hrs_worked * self.rate) == 0:\n",
    "                print (\"you entered a 0 value in your salary details\")\n",
    "                return print(\"ERROR\")\n",
    "            elif (self.hrs_worked * self.rate) < 0:\n",
    "                print (\"you entered a negative value in your salary details\")\n",
    "                return (\"ERROR\")\n",
    "            else:\n",
    "                print(\"Your salary is as displayed below: \")\n",
    "                return func(self)\n",
    "        return calculator\n",
    "            \n",
    "        \n",
    "    \n",
    "    #Use of decorators\n",
    "    \n",
    "    @star\n",
    "    def Onboard(self):\n",
    "        msg = \" welcome to this awesome company, you will become the star of the company\"\n",
    "        print(f\"{self.F_name} {self.L_name}\" + msg)\n",
    "        \n",
    "    @check_salary    \n",
    "    def get_salary(self):\n",
    "        return (str(self.hrs_worked * self.rate) + \"£\")\n",
    "    \n"
   ]
  },
  {
   "cell_type": "code",
   "execution_count": 47,
   "id": "fa3ef68d",
   "metadata": {},
   "outputs": [],
   "source": [
    "a = Analyst(\"Remington\", \"Surti\", 40, 12)"
   ]
  },
  {
   "cell_type": "code",
   "execution_count": 48,
   "id": "1a8382d0",
   "metadata": {},
   "outputs": [
    {
     "name": "stdout",
     "output_type": "stream",
     "text": [
      "****************************************************************************************************\n",
      "Remington Surti welcome to this awesome company, you will become the star of the company\n",
      "****************************************************************************************************\n"
     ]
    }
   ],
   "source": [
    "#Invoking decorated funtion 1\n",
    "a.Onboard()"
   ]
  },
  {
   "cell_type": "code",
   "execution_count": 50,
   "id": "867af573",
   "metadata": {},
   "outputs": [
    {
     "name": "stdout",
     "output_type": "stream",
     "text": [
      "Your salary is as displayed below: \n"
     ]
    },
    {
     "data": {
      "text/plain": [
       "'480£'"
      ]
     },
     "execution_count": 50,
     "metadata": {},
     "output_type": "execute_result"
    }
   ],
   "source": [
    "#Invoking decorated funtion 2\n",
    "a.get_salary()"
   ]
  },
  {
   "cell_type": "code",
   "execution_count": null,
   "id": "ff420134",
   "metadata": {},
   "outputs": [],
   "source": []
  }
 ],
 "metadata": {
  "kernelspec": {
   "display_name": "Python 3 (ipykernel)",
   "language": "python",
   "name": "python3"
  },
  "language_info": {
   "codemirror_mode": {
    "name": "ipython",
    "version": 3
   },
   "file_extension": ".py",
   "mimetype": "text/x-python",
   "name": "python",
   "nbconvert_exporter": "python",
   "pygments_lexer": "ipython3",
   "version": "3.9.12"
  }
 },
 "nbformat": 4,
 "nbformat_minor": 5
}
