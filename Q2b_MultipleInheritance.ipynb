{
 "cells": [
  {
   "cell_type": "code",
   "execution_count": 69,
   "id": "2baf7c8d",
   "metadata": {},
   "outputs": [],
   "source": [
    "# Demonstrating the use of Multiple Inheritance \n",
    "\n",
    "#Super Parent class\n",
    "class Company():\n",
    "    \n",
    "    def __init__(self, emp_id, F_name, L_name):\n",
    "        self.emp_id = emp_id\n",
    "        self.F_name = F_name\n",
    "        self.L_name = L_name\n",
    "        \n",
    "    def emp_name(self):\n",
    "        print( \"emp_id \\t F_name L_name\")\n",
    "        print( f\"{self.emp_id} \\t {self.F_name} \\t {self.L_name}\")\n",
    "        print(\"\\n\")\n",
    "        \n",
    "#Parent Class 1\n",
    "class Team_Manager(Company):\n",
    "    def __init__(self, emp_id, F_name, L_name):\n",
    "        Company.__init__(self, emp_id, F_name, L_name)\n",
    "        \n",
    "    \n",
    "    def TM_communication(self):\n",
    "        tm_msg =\"I am your Team Manager will be in charge of you and your team if you need any help just let me know\"\n",
    "        return tm_msg\n",
    "            \n",
    "class Quality_Analyst(Company):\n",
    "    def __init__(self, emp_id, F_name, L_name):\n",
    "        Company.__init__(self, emp_id, F_name, L_name)\n",
    "        \n",
    "    def QA_communication(self):\n",
    "        qa_msg = \"I your Quality Analyst will be in charge of your assessments\"\n",
    "        return qa_msg\n",
    "    \n",
    "    \n",
    "    \n",
    "#Child Class inheriting from two parent classes\n",
    "class Data_Analyst(Team_Manager, Quality_Analyst):\n",
    "    def __init__(self, emp_id, F_name, L_name):\n",
    "        Company.__init__(self, emp_id, F_name, L_name)\n",
    "        \n",
    "    def Work_Instructions(self):\n",
    "        print(f\"{self.F_name} your current task is to perform data preprocessing and Exploratory data analysis on the provided data by the clients\")\n",
    "        \n"
   ]
  },
  {
   "cell_type": "code",
   "execution_count": 70,
   "id": "f4be8384",
   "metadata": {},
   "outputs": [],
   "source": [
    "#Creating a Data analyst object \n",
    "DA_obj = Data_Analyst(101, \"Remo\", \"Surti\")"
   ]
  },
  {
   "cell_type": "code",
   "execution_count": 71,
   "id": "f354413c",
   "metadata": {},
   "outputs": [
    {
     "name": "stdout",
     "output_type": "stream",
     "text": [
      "Remo your current task is to perform data preprocessing and Exploratory data analysis on the provided data by the clients\n"
     ]
    }
   ],
   "source": [
    "#Accessing local child class function\n",
    "DA_obj.Work_Instructions()"
   ]
  },
  {
   "cell_type": "code",
   "execution_count": 73,
   "id": "05df6c6e",
   "metadata": {},
   "outputs": [
    {
     "name": "stdout",
     "output_type": "stream",
     "text": [
      "emp_id \t F_name L_name\n",
      "101 \t Remo \t Surti\n",
      "\n",
      "\n"
     ]
    }
   ],
   "source": [
    "#Accessing super parent class company function\n",
    "DA_obj.emp_name()"
   ]
  },
  {
   "cell_type": "code",
   "execution_count": 74,
   "id": "28d16c8f",
   "metadata": {},
   "outputs": [
    {
     "data": {
      "text/plain": [
       "'I am your Team Manager will be in charge of you and your team if you need any help just let me know'"
      ]
     },
     "execution_count": 74,
     "metadata": {},
     "output_type": "execute_result"
    }
   ],
   "source": [
    "#Accessing inherited parent class 1 function\n",
    "DA_obj.TM_communication()"
   ]
  },
  {
   "cell_type": "code",
   "execution_count": 75,
   "id": "719bb962",
   "metadata": {},
   "outputs": [
    {
     "data": {
      "text/plain": [
       "'I your Quality Analyst will be in charge of your assessments'"
      ]
     },
     "execution_count": 75,
     "metadata": {},
     "output_type": "execute_result"
    }
   ],
   "source": [
    "#Accessing inherited parent class 2 function\n",
    "DA_obj.QA_communication()"
   ]
  },
  {
   "cell_type": "code",
   "execution_count": null,
   "id": "55b053e9",
   "metadata": {},
   "outputs": [],
   "source": []
  }
 ],
 "metadata": {
  "kernelspec": {
   "display_name": "Python 3 (ipykernel)",
   "language": "python",
   "name": "python3"
  },
  "language_info": {
   "codemirror_mode": {
    "name": "ipython",
    "version": 3
   },
   "file_extension": ".py",
   "mimetype": "text/x-python",
   "name": "python",
   "nbconvert_exporter": "python",
   "pygments_lexer": "ipython3",
   "version": "3.9.12"
  }
 },
 "nbformat": 4,
 "nbformat_minor": 5
}
