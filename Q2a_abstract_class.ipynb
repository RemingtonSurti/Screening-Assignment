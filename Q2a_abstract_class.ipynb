{
 "cells": [
  {
   "cell_type": "code",
   "execution_count": 75,
   "id": "2f7b2fc7",
   "metadata": {},
   "outputs": [],
   "source": [
    "# Demonstrating the use of Abstract method\n",
    "\n",
    "#Importing required modules \n",
    "from abc import ABC, abstractmethod"
   ]
  },
  {
   "cell_type": "code",
   "execution_count": 76,
   "id": "47361602",
   "metadata": {},
   "outputs": [],
   "source": [
    "class Company(ABC):\n",
    "    \n",
    "    def __init__(self, emp_id, F_name, L_name):\n",
    "        self.emp_id = emp_id\n",
    "        self.F_name = F_name\n",
    "        self.L_name = L_name\n",
    "        \n",
    "    def emp_info(self):\n",
    "        print( \"emp_id \\t F_name \\t L_name WFH \\t salary\")\n",
    "        print( f\"{self.emp_id} \\t {self.F_name} \\t {self.L_name} \\t {self.wfh} \\t {self.salary()}\")\n",
    "        print(\"\\n\")\n",
    "    \n",
    "    \n",
    "    @abstractmethod\n",
    "    def WFH(self):\n",
    "        pass\n",
    "    \n",
    "    @abstractmethod\n",
    "    def Task(self):\n",
    "        pass\n",
    "    \n",
    "    @abstractmethod\n",
    "    def salary(self):\n",
    "        pass\n",
    "\n",
    "class Team_Manager(Company):\n",
    "    def __init__(self, emp_id, F_name, L_name, wfh, hourly_rate, hrs_worked):\n",
    "        Company.__init__(self, emp_id, F_name, L_name)\n",
    "        self.wfh = wfh\n",
    "        self.hourly_rate = hourly_rate\n",
    "        self.hrs_worked = hrs_worked\n",
    "     \n",
    "    #Defining abstract methods which were just declared in the abstract class\n",
    "        \n",
    "    def WFH(self):\n",
    "        if self.wfh == 'yes':\n",
    "            print(\"Eligible for work from home\")\n",
    "        else:\n",
    "            print(\"Not Eligible for work from home\")\n",
    "    \n",
    "    def Task(self):\n",
    "        print(\"Your task is to Manage and lead a team of data analyst\")\n",
    "    \n",
    "    def salary(self):\n",
    "        return (str(self.hourly_rate * self.hrs_worked) + \"£\")\n",
    "        \n",
    "    \n",
    "\n",
    "class Analyst(Company):\n",
    "    def __init__(self, emp_id, F_name, L_name, wfh, hourly_rate, hrs_worked):\n",
    "        Company.__init__(self, emp_id, F_name, L_name)\n",
    "        self.wfh = wfh\n",
    "        self.hourly_rate = hourly_rate\n",
    "        self.hrs_worked = hrs_worked\n",
    "     \n",
    "    #Defining abstract methods which were just declared in the abstract class\n",
    "    \n",
    "    def WFH(self):\n",
    "        if self.wfh == 'yes':\n",
    "            print(\"Eligible for work from home\")\n",
    "        else:\n",
    "            print(\"Not Eligible for work from home\")\n",
    "    \n",
    "    def Task(self):\n",
    "        print(\"Your task is to work with fellow data analyst under the leadership of your Team Manager\")\n",
    "    \n",
    "    def salary(self):\n",
    "        return (str(self.hourly_rate * self.hrs_worked) + \"£\")\n",
    "\n",
    "        "
   ]
  },
  {
   "cell_type": "code",
   "execution_count": 77,
   "id": "5396e79e",
   "metadata": {},
   "outputs": [],
   "source": [
    "#Creating child class objects\n",
    "TM_obj = Team_Manager(102, 'Kenneth', 'Surti', 'yes', 12, 400)\n",
    "DA_obj = Analyst(1001, 'Remington', 'Surti', 'no', 11, 400)"
   ]
  },
  {
   "cell_type": "code",
   "execution_count": 78,
   "id": "cd1e7e43",
   "metadata": {},
   "outputs": [
    {
     "name": "stdout",
     "output_type": "stream",
     "text": [
      "emp_id \t F_name \t L_name WFH \t salary\n",
      "102 \t Kenneth \t Surti \t yes \t 4800£\n",
      "\n",
      "\n",
      "Eligible for work from home\n",
      "Your task is to Manage and lead a team of data analyst\n"
     ]
    },
    {
     "data": {
      "text/plain": [
       "'4800£'"
      ]
     },
     "execution_count": 78,
     "metadata": {},
     "output_type": "execute_result"
    }
   ],
   "source": [
    "TM_obj.emp_info()\n",
    "\n",
    "# Invoking defined methods of child class Team_Manager which were declared as Abstract method in the Abstract Base Class\n",
    "TM_obj.WFH()\n",
    "TM_obj.Task()\n",
    "TM_obj.salary()"
   ]
  },
  {
   "cell_type": "code",
   "execution_count": 79,
   "id": "70210e68",
   "metadata": {},
   "outputs": [
    {
     "name": "stdout",
     "output_type": "stream",
     "text": [
      "emp_id \t F_name \t L_name WFH \t salary\n",
      "1001 \t Remington \t Surti \t no \t 4400£\n",
      "\n",
      "\n",
      "Not Eligible for work from home\n",
      "Your task is to work with fellow data analyst under the leadership of your Team Manager\n"
     ]
    },
    {
     "data": {
      "text/plain": [
       "'4400£'"
      ]
     },
     "execution_count": 79,
     "metadata": {},
     "output_type": "execute_result"
    }
   ],
   "source": [
    "DA_obj.emp_info()\n",
    "\n",
    "# Invoking defined methods of child class Analyst which were declared as Abstract method in the Abstract Base Class\n",
    "DA_obj.WFH()\n",
    "DA_obj.Task()\n",
    "DA_obj.salary()"
   ]
  }
 ],
 "metadata": {
  "kernelspec": {
   "display_name": "Python 3 (ipykernel)",
   "language": "python",
   "name": "python3"
  },
  "language_info": {
   "codemirror_mode": {
    "name": "ipython",
    "version": 3
   },
   "file_extension": ".py",
   "mimetype": "text/x-python",
   "name": "python",
   "nbconvert_exporter": "python",
   "pygments_lexer": "ipython3",
   "version": "3.9.12"
  }
 },
 "nbformat": 4,
 "nbformat_minor": 5
}
